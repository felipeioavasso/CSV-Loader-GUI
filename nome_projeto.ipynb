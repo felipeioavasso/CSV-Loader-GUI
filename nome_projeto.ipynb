from carregar_arquivo_versao_02 import carregar_e_exibir_csv

# Chama a interface gráfica e retorna o DataFrame
df = carregar_e_exibir_csv()

# Verifica o conteúdo do DataFrame
if df is not None:
    print("Dados carregados com sucesso!")
else:
    print("Nenhum arquivo foi carregado.")
